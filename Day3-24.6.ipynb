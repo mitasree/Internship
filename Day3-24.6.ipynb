{
 "cells": [
  {
   "cell_type": "markdown",
   "id": "44f9c013",
   "metadata": {},
   "source": [
    "# Random submodule"
   ]
  },
  {
   "cell_type": "code",
   "execution_count": 1,
   "id": "0b64b747",
   "metadata": {},
   "outputs": [],
   "source": [
    "import numpy as np"
   ]
  },
  {
   "cell_type": "code",
   "execution_count": 2,
   "id": "8e1d2239",
   "metadata": {},
   "outputs": [
    {
     "data": {
      "text/plain": [
       "array([0.03725483, 0.35187201, 0.64552256, 0.23424079, 0.49047339,\n",
       "       0.8532368 , 0.35045633, 0.91326174, 0.24330097, 0.99621861])"
      ]
     },
     "execution_count": 2,
     "metadata": {},
     "output_type": "execute_result"
    }
   ],
   "source": [
    "#generating random value\n",
    "arr=np.random.rand(10) #random is submodule of numpy, values 0<=n<1\n",
    "arr"
   ]
  },
  {
   "cell_type": "code",
   "execution_count": 3,
   "id": "6c6131e6",
   "metadata": {},
   "outputs": [
    {
     "data": {
      "text/plain": [
       "array([[0.52503136, 0.13208332],\n",
       "       [0.76853543, 0.00415016],\n",
       "       [0.10665084, 0.97353784]])"
      ]
     },
     "execution_count": 3,
     "metadata": {},
     "output_type": "execute_result"
    }
   ],
   "source": [
    "arr=np.random.rand(3,2) #2d\n",
    "arr"
   ]
  },
  {
   "cell_type": "markdown",
   "id": "33ae41c5",
   "metadata": {},
   "source": [
    "random number keeps changing every time it is run. needs to be fixed"
   ]
  },
  {
   "cell_type": "code",
   "execution_count": 4,
   "id": "7ede642a",
   "metadata": {},
   "outputs": [
    {
     "data": {
      "text/plain": [
       "array([[0.77132064, 0.02075195],\n",
       "       [0.63364823, 0.74880388],\n",
       "       [0.49850701, 0.22479665]])"
      ]
     },
     "execution_count": 4,
     "metadata": {},
     "output_type": "execute_result"
    }
   ],
   "source": [
    "#seed function to be used in same cell\n",
    "np.random.seed(10) #any integer can be passed,same value in seed gives same data set\n",
    "arr=np.random.rand(3,2)\n",
    "arr"
   ]
  },
  {
   "cell_type": "code",
   "execution_count": 5,
   "id": "ad7e8735",
   "metadata": {},
   "outputs": [
    {
     "data": {
      "text/plain": [
       "array([50.62133597, 49.27991444, 50.26551159, 50.10854853, 50.00429143,\n",
       "       49.82539979, 50.43302619, 51.20303737, 49.03493433, 51.02827408])"
      ]
     },
     "execution_count": 5,
     "metadata": {},
     "output_type": "execute_result"
    }
   ],
   "source": [
    "arr=np.random.normal(loc=50,scale=1,size=10) #10 picked number from a normal distribution(bell curve) with mean 50 and sd 1\n",
    "arr"
   ]
  },
  {
   "cell_type": "code",
   "execution_count": 6,
   "id": "c181ca4c",
   "metadata": {},
   "outputs": [
    {
     "data": {
      "text/plain": [
       "array([[50.22863013, 50.44513761],\n",
       "       [48.86339779, 50.13513688],\n",
       "       [51.484537  , 48.92019511]])"
      ]
     },
     "execution_count": 6,
     "metadata": {},
     "output_type": "execute_result"
    }
   ],
   "source": [
    "arr=np.random.normal(loc=50,scale=1,size=(3,2)) #2d\n",
    "arr"
   ]
  },
  {
   "cell_type": "code",
   "execution_count": 7,
   "id": "2b4039f7",
   "metadata": {},
   "outputs": [
    {
     "data": {
      "text/plain": [
       "array([-1.97772828, -1.7433723 ,  0.26607016,  2.38496733,  1.12369125])"
      ]
     },
     "execution_count": 7,
     "metadata": {},
     "output_type": "execute_result"
    }
   ],
   "source": [
    "#to simulate errors\n",
    "arr=np.random.randn(5) #5 normal distribution values, mean is 0, sd 1\n",
    "arr"
   ]
  },
  {
   "cell_type": "markdown",
   "id": "5d185213",
   "metadata": {},
   "source": [
    "Any normal distribution with mean 0,sd 1 -> standard normal distribution"
   ]
  },
  {
   "cell_type": "code",
   "execution_count": 8,
   "id": "5789a66e",
   "metadata": {},
   "outputs": [
    {
     "data": {
      "text/plain": [
       "array([16, 10, 13, 14, 12, 10, 11, 12, 10, 16])"
      ]
     },
     "execution_count": 8,
     "metadata": {},
     "output_type": "execute_result"
    }
   ],
   "source": [
    "arr=np.random.randint(low=10,high=17,size=10) #10<=n<17\n",
    "arr"
   ]
  },
  {
   "cell_type": "code",
   "execution_count": 9,
   "id": "fad2a258",
   "metadata": {},
   "outputs": [
    {
     "data": {
      "text/plain": [
       "150"
      ]
     },
     "execution_count": 9,
     "metadata": {},
     "output_type": "execute_result"
    }
   ],
   "source": [
    "v1=np.array([10,10,10]) \n",
    "v2=np.array([5,5,5])\n",
    "np.dot(v1,v2) #vector dot product"
   ]
  },
  {
   "cell_type": "code",
   "execution_count": 10,
   "id": "25f4b916",
   "metadata": {},
   "outputs": [
    {
     "data": {
      "text/plain": [
       "array([[42, 38, 14, 14],\n",
       "       [48, 42, 16, 16],\n",
       "       [54, 42, 18, 18]])"
      ]
     },
     "execution_count": 10,
     "metadata": {},
     "output_type": "execute_result"
    }
   ],
   "source": [
    "arr1=np.random.randint(2,7,(3,2))\n",
    "arr2=np.random.randint(2,7,(2,4)) #compatible for multiplication\n",
    "np.dot(arr1,arr2) #3X4 matrix"
   ]
  },
  {
   "cell_type": "code",
   "execution_count": 11,
   "id": "f2c42f5a",
   "metadata": {},
   "outputs": [
    {
     "data": {
      "text/plain": [
       "40.000000000000014"
      ]
     },
     "execution_count": 11,
     "metadata": {},
     "output_type": "execute_result"
    }
   ],
   "source": [
    "arr1=np.random.randint(2,7,(3,3))\n",
    "np.linalg.det(arr1) #linalg->linear algebra submodule"
   ]
  },
  {
   "cell_type": "code",
   "execution_count": 12,
   "id": "2d34a50c",
   "metadata": {},
   "outputs": [
    {
     "data": {
      "text/plain": [
       "array(['T', 'F', 'F', 'F', 'F', 'T'], dtype='<U1')"
      ]
     },
     "execution_count": 12,
     "metadata": {},
     "output_type": "execute_result"
    }
   ],
   "source": [
    "# new array with t for age<20 , nt for age>20\n",
    "age=np.array([10,22,20,35,43,19]) \n",
    "np.where(age<20,'T','F') #ternary operator function"
   ]
  },
  {
   "cell_type": "markdown",
   "id": "d24e545c",
   "metadata": {},
   "source": [
    " U is string datatype"
   ]
  },
  {
   "cell_type": "code",
   "execution_count": 13,
   "id": "447a1373",
   "metadata": {},
   "outputs": [
    {
     "data": {
      "text/plain": [
       "array(['1', '2.4', '3', '4'], dtype='<U3')"
      ]
     },
     "execution_count": 13,
     "metadata": {},
     "output_type": "execute_result"
    }
   ],
   "source": [
    "arr=np.array([1,2.4,3,4],dtype=\"str\") #explicit type cast\n",
    "arr"
   ]
  },
  {
   "cell_type": "markdown",
   "id": "df6c3226",
   "metadata": {},
   "source": [
    "<h1> Pandas"
   ]
  },
  {
   "cell_type": "code",
   "execution_count": 14,
   "id": "c3c2f196",
   "metadata": {},
   "outputs": [],
   "source": [
    "import numpy as np\n",
    "import pandas as pd"
   ]
  },
  {
   "cell_type": "code",
   "execution_count": 15,
   "id": "d15fa05e",
   "metadata": {},
   "outputs": [],
   "source": [
    "marks=[90,78,89,71]\n",
    "names=['john','tom','robert','harry']"
   ]
  },
  {
   "cell_type": "markdown",
   "id": "2a3e0195",
   "metadata": {},
   "source": [
    "* Series is a class of panda"
   ]
  },
  {
   "cell_type": "code",
   "execution_count": 26,
   "id": "ac2f6108",
   "metadata": {},
   "outputs": [
    {
     "data": {
      "text/plain": [
       "john      90\n",
       "tom       78\n",
       "robert    89\n",
       "harry     71\n",
       "dtype: int64"
      ]
     },
     "execution_count": 26,
     "metadata": {},
     "output_type": "execute_result"
    }
   ],
   "source": [
    "ser=pd.Series(marks,index=names) #(values,index) , key value pair like dictionary\n",
    "ser"
   ]
  },
  {
   "cell_type": "code",
   "execution_count": 17,
   "id": "693bf328",
   "metadata": {},
   "outputs": [
    {
     "data": {
      "text/plain": [
       "90"
      ]
     },
     "execution_count": 17,
     "metadata": {},
     "output_type": "execute_result"
    }
   ],
   "source": [
    "ser['john']"
   ]
  },
  {
   "cell_type": "code",
   "execution_count": 18,
   "id": "2e60a98c",
   "metadata": {},
   "outputs": [
    {
     "data": {
      "text/plain": [
       "john      99\n",
       "tom       78\n",
       "robert    89\n",
       "harry     71\n",
       "dtype: int64"
      ]
     },
     "execution_count": 18,
     "metadata": {},
     "output_type": "execute_result"
    }
   ],
   "source": [
    "ser['john']=99\n",
    "ser"
   ]
  },
  {
   "cell_type": "code",
   "execution_count": 19,
   "id": "b1e94195",
   "metadata": {},
   "outputs": [
    {
     "data": {
      "text/plain": [
       "john      99\n",
       "tom       78\n",
       "robert    89\n",
       "harry     71\n",
       "alice     89\n",
       "dtype: int64"
      ]
     },
     "execution_count": 19,
     "metadata": {},
     "output_type": "execute_result"
    }
   ],
   "source": [
    "ser['alice']=89 #entering new key\n",
    "ser"
   ]
  },
  {
   "cell_type": "code",
   "execution_count": 20,
   "id": "82f22f16",
   "metadata": {},
   "outputs": [
    {
     "data": {
      "text/plain": [
       "john     99\n",
       "tom      78\n",
       "harry    71\n",
       "alice    89\n",
       "dtype: int64"
      ]
     },
     "execution_count": 20,
     "metadata": {},
     "output_type": "execute_result"
    }
   ],
   "source": [
    "del ser['robert'] #del to delete\n",
    "ser"
   ]
  },
  {
   "cell_type": "code",
   "execution_count": 21,
   "id": "f5e4b9cd",
   "metadata": {},
   "outputs": [
    {
     "name": "stdout",
     "output_type": "stream",
     "text": [
      "99\n",
      "78\n",
      "71\n",
      "89\n"
     ]
    }
   ],
   "source": [
    "for i in ser:\n",
    "    print(i) "
   ]
  },
  {
   "cell_type": "markdown",
   "id": "104470b5",
   "metadata": {},
   "source": [
    "In dictionaries the keys are printed if loop is used, here values are printed"
   ]
  },
  {
   "cell_type": "code",
   "execution_count": 22,
   "id": "6563a570",
   "metadata": {},
   "outputs": [
    {
     "data": {
      "text/plain": [
       "False"
      ]
     },
     "execution_count": 22,
     "metadata": {},
     "output_type": "execute_result"
    }
   ],
   "source": [
    "#checking if key exists or not\n",
    "'virat' in ser"
   ]
  },
  {
   "cell_type": "code",
   "execution_count": 23,
   "id": "4b87c468",
   "metadata": {},
   "outputs": [
    {
     "data": {
      "text/plain": [
       "True"
      ]
     },
     "execution_count": 23,
     "metadata": {},
     "output_type": "execute_result"
    }
   ],
   "source": [
    "'harry' in ser"
   ]
  },
  {
   "cell_type": "code",
   "execution_count": 24,
   "id": "b6d1b2c4",
   "metadata": {},
   "outputs": [
    {
     "data": {
      "text/plain": [
       "0    90\n",
       "1    78\n",
       "2    89\n",
       "3    71\n",
       "dtype: int64"
      ]
     },
     "execution_count": 24,
     "metadata": {},
     "output_type": "execute_result"
    }
   ],
   "source": [
    "ser=pd.Series(marks) #index is not compulsory,but in dictionaries key has to be given\n",
    "ser"
   ]
  },
  {
   "cell_type": "code",
   "execution_count": 27,
   "id": "f53054d6",
   "metadata": {},
   "outputs": [
    {
     "data": {
      "text/plain": [
       "john      90\n",
       "tom       78\n",
       "robert    89\n",
       "harry     71\n",
       "dtype: int64"
      ]
     },
     "execution_count": 27,
     "metadata": {},
     "output_type": "execute_result"
    }
   ],
   "source": [
    "#reordering entries\n",
    "ser=pd.Series(marks,index=names)\n",
    "ser.reindex(['harry','alice','john','tom','robert'])\n",
    "ser"
   ]
  },
  {
   "cell_type": "code",
   "execution_count": 29,
   "id": "f2d1c6df",
   "metadata": {},
   "outputs": [
    {
     "data": {
      "text/plain": [
       "harry     71.0\n",
       "alice      NaN\n",
       "john      90.0\n",
       "tom       78.0\n",
       "robert    89.0\n",
       "david      NaN\n",
       "dtype: float64"
      ]
     },
     "execution_count": 29,
     "metadata": {},
     "output_type": "execute_result"
    }
   ],
   "source": [
    "ser=ser.reindex(['harry','alice','john','tom','robert','david'])\n",
    "ser"
   ]
  },
  {
   "cell_type": "markdown",
   "id": "c09bfb5e",
   "metadata": {},
   "source": [
    "NaN stands for not a number-> a float value type, signifies missing value"
   ]
  },
  {
   "cell_type": "code",
   "execution_count": 32,
   "id": "6e638fde",
   "metadata": {},
   "outputs": [
    {
     "data": {
      "text/plain": [
       "harry     71.0\n",
       "alice     97.0\n",
       "john      90.0\n",
       "tom       78.0\n",
       "robert    89.0\n",
       "david     92.0\n",
       "dtype: float64"
      ]
     },
     "execution_count": 32,
     "metadata": {},
     "output_type": "execute_result"
    }
   ],
   "source": [
    "ser['david']=92\n",
    "ser['alice']=97\n",
    "ser"
   ]
  },
  {
   "cell_type": "code",
   "execution_count": 33,
   "id": "a2474311",
   "metadata": {},
   "outputs": [
    {
     "data": {
      "text/plain": [
       "harry     73.0\n",
       "alice     99.0\n",
       "john      92.0\n",
       "tom       80.0\n",
       "robert    91.0\n",
       "david     94.0\n",
       "dtype: float64"
      ]
     },
     "execution_count": 33,
     "metadata": {},
     "output_type": "execute_result"
    }
   ],
   "source": [
    "ser+2"
   ]
  },
  {
   "cell_type": "code",
   "execution_count": 34,
   "id": "ecde8b92",
   "metadata": {},
   "outputs": [
    {
     "data": {
      "text/plain": [
       "harry     71.0\n",
       "tom       78.0\n",
       "robert    89.0\n",
       "dtype: float64"
      ]
     },
     "execution_count": 34,
     "metadata": {},
     "output_type": "execute_result"
    }
   ],
   "source": [
    "ser[ser<90]"
   ]
  },
  {
   "cell_type": "code",
   "execution_count": 35,
   "id": "dcb8e3c9",
   "metadata": {},
   "outputs": [
    {
     "data": {
      "text/plain": [
       "pandas.core.series.Series"
      ]
     },
     "execution_count": 35,
     "metadata": {},
     "output_type": "execute_result"
    }
   ],
   "source": [
    "type(ser)"
   ]
  },
  {
   "cell_type": "code",
   "execution_count": 41,
   "id": "782c6897",
   "metadata": {},
   "outputs": [
    {
     "data": {
      "text/plain": [
       "array([71., 97., 90., 78., 89., 92.])"
      ]
     },
     "execution_count": 41,
     "metadata": {},
     "output_type": "execute_result"
    }
   ],
   "source": [
    "arr=ser.values\n",
    " #changed to numpy array\n",
    "arr"
   ]
  },
  {
   "cell_type": "code",
   "execution_count": 43,
   "id": "55e82f0e",
   "metadata": {},
   "outputs": [
    {
     "data": {
      "text/plain": [
       "array([71, 97, 90, 78, 89, 92])"
      ]
     },
     "execution_count": 43,
     "metadata": {},
     "output_type": "execute_result"
    }
   ],
   "source": [
    "arr=arr.astype('int')#changing type\n",
    "arr"
   ]
  },
  {
   "cell_type": "code",
   "execution_count": 37,
   "id": "7c22b8f3",
   "metadata": {},
   "outputs": [
    {
     "data": {
      "text/plain": [
       "array(['harry', 'alice', 'john', 'tom', 'robert', 'david'], dtype=object)"
      ]
     },
     "execution_count": 37,
     "metadata": {},
     "output_type": "execute_result"
    }
   ],
   "source": [
    "arr1=ser.index.values\n",
    "arr1"
   ]
  },
  {
   "cell_type": "code",
   "execution_count": null,
   "id": "a6076d6b",
   "metadata": {},
   "outputs": [],
   "source": []
  }
 ],
 "metadata": {
  "kernelspec": {
   "display_name": "Python 3 (ipykernel)",
   "language": "python",
   "name": "python3"
  },
  "language_info": {
   "codemirror_mode": {
    "name": "ipython",
    "version": 3
   },
   "file_extension": ".py",
   "mimetype": "text/x-python",
   "name": "python",
   "nbconvert_exporter": "python",
   "pygments_lexer": "ipython3",
   "version": "3.10.9"
  }
 },
 "nbformat": 4,
 "nbformat_minor": 5
}
