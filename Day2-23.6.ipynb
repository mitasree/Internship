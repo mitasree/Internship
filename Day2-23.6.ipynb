{
 "cells": [
  {
   "cell_type": "markdown",
   "id": "9abc0045",
   "metadata": {},
   "source": [
    "# Vectorization,Mean,Medain,Variance,Std Deviation,Percentile,Quartile"
   ]
  },
  {
   "cell_type": "code",
   "execution_count": 1,
   "id": "c6865d4f",
   "metadata": {},
   "outputs": [],
   "source": [
    "import numpy as np"
   ]
  },
  {
   "cell_type": "code",
   "execution_count": 2,
   "id": "908417f1",
   "metadata": {},
   "outputs": [
    {
     "data": {
      "text/plain": [
       "array([0, 1, 2, 3, 4, 5, 6, 7, 8, 9])"
      ]
     },
     "execution_count": 2,
     "metadata": {},
     "output_type": "execute_result"
    }
   ],
   "source": [
    "arr=np.arange(10)\n",
    "arr"
   ]
  },
  {
   "cell_type": "code",
   "execution_count": 7,
   "id": "6d0bf187",
   "metadata": {},
   "outputs": [
    {
     "data": {
      "text/plain": [
       "array([10, 11, 12, 13, 14, 15, 16, 17, 18, 19])"
      ]
     },
     "execution_count": 7,
     "metadata": {},
     "output_type": "execute_result"
    }
   ],
   "source": [
    "#adding 10 to each element in list\n",
    "newlist=[]\n",
    "for i in arr:\n",
    "    newlist.append(i+10)\n",
    "arr1=np.array(newlist)\n",
    "arr1"
   ]
  },
  {
   "cell_type": "code",
   "execution_count": 8,
   "id": "08a9641e",
   "metadata": {},
   "outputs": [
    {
     "data": {
      "text/plain": [
       "array([0, 1, 2, 3, 4, 5, 6, 7, 8, 9])"
      ]
     },
     "execution_count": 8,
     "metadata": {},
     "output_type": "execute_result"
    }
   ],
   "source": [
    "arr"
   ]
  },
  {
   "cell_type": "code",
   "execution_count": 11,
   "id": "74c0f3ea",
   "metadata": {},
   "outputs": [
    {
     "data": {
      "text/plain": [
       "array([10, 11, 12, 13, 14, 15, 16, 17, 18, 19])"
      ]
     },
     "execution_count": 11,
     "metadata": {},
     "output_type": "execute_result"
    }
   ],
   "source": [
    "arr1=arr+10 #precised work using numpy array\n",
    "arr1"
   ]
  },
  {
   "cell_type": "code",
   "execution_count": 12,
   "id": "034f5cfc",
   "metadata": {},
   "outputs": [
    {
     "data": {
      "text/plain": [
       "array([20, 22, 24, 26, 28, 30, 32, 34, 36, 38])"
      ]
     },
     "execution_count": 12,
     "metadata": {},
     "output_type": "execute_result"
    }
   ],
   "source": [
    "arr2=np.arange(10,20)\n",
    "if arr1.shape==arr2.shape:\n",
    "    a=arr1+arr2\n",
    "a"
   ]
  },
  {
   "cell_type": "code",
   "execution_count": 15,
   "id": "08e047fc",
   "metadata": {},
   "outputs": [
    {
     "data": {
      "text/plain": [
       "array([[20, 22],\n",
       "       [24, 26],\n",
       "       [28, 30],\n",
       "       [32, 34],\n",
       "       [36, 38]])"
      ]
     },
     "execution_count": 15,
     "metadata": {},
     "output_type": "execute_result"
    }
   ],
   "source": [
    "#realtime execution, time management\n",
    "arr1.resize(5,2)\n",
    "arr2.resize(5,2)\n",
    "a=arr1+arr2\n",
    "a"
   ]
  },
  {
   "cell_type": "code",
   "execution_count": 17,
   "id": "06462d38",
   "metadata": {},
   "outputs": [
    {
     "data": {
      "text/plain": [
       "array([10, 20, 43])"
      ]
     },
     "execution_count": 17,
     "metadata": {},
     "output_type": "execute_result"
    }
   ],
   "source": [
    "age=np.array([10,22,20,35,43,19])\n",
    "arb=np.array([True,False,True,False,True,False])\n",
    "age[arb] #true values are returned. A Boolean array can be used as a filter "
   ]
  },
  {
   "cell_type": "code",
   "execution_count": 20,
   "id": "5a4cd443",
   "metadata": {},
   "outputs": [
    {
     "data": {
      "text/plain": [
       "array([10, 19])"
      ]
     },
     "execution_count": 20,
     "metadata": {},
     "output_type": "execute_result"
    }
   ],
   "source": [
    "age[age<20] #to find teenagers"
   ]
  },
  {
   "cell_type": "code",
   "execution_count": 22,
   "id": "b4cf4a3d",
   "metadata": {},
   "outputs": [
    {
     "data": {
      "text/plain": [
       "array([10, 43, 19])"
      ]
     },
     "execution_count": 22,
     "metadata": {},
     "output_type": "execute_result"
    }
   ],
   "source": [
    "#age less than 20 more than 40\n",
    "age[(age<20) | (age>40)] #or gate , it is not logical or"
   ]
  },
  {
   "cell_type": "code",
   "execution_count": 24,
   "id": "3a990d81",
   "metadata": {},
   "outputs": [
    {
     "data": {
      "text/plain": [
       "array([22, 35])"
      ]
     },
     "execution_count": 24,
     "metadata": {},
     "output_type": "execute_result"
    }
   ],
   "source": [
    "#age btwn 20 and 40\n",
    "age[(age>20) & (age<40)] "
   ]
  },
  {
   "cell_type": "code",
   "execution_count": 25,
   "id": "c61c51b5",
   "metadata": {},
   "outputs": [
    {
     "data": {
      "text/plain": [
       "array([10, 20, 19])"
      ]
     },
     "execution_count": 25,
     "metadata": {},
     "output_type": "execute_result"
    }
   ],
   "source": [
    "#age that are not less than 20 -> compliment\n",
    "age[~(age>20)] "
   ]
  },
  {
   "cell_type": "code",
   "execution_count": 31,
   "id": "59d54495",
   "metadata": {},
   "outputs": [
    {
     "data": {
      "text/plain": [
       "23600.0"
      ]
     },
     "execution_count": 31,
     "metadata": {},
     "output_type": "execute_result"
    }
   ],
   "source": [
    "sal=np.array([20000,22000,30000,25000,21000])\n",
    "sal.mean() #sal is ndarray object"
   ]
  },
  {
   "cell_type": "code",
   "execution_count": 32,
   "id": "cd0c4828",
   "metadata": {},
   "outputs": [
    {
     "data": {
      "text/plain": [
       "23600.0"
      ]
     },
     "execution_count": 32,
     "metadata": {},
     "output_type": "execute_result"
    }
   ],
   "source": [
    "np.mean(sal)"
   ]
  },
  {
   "cell_type": "code",
   "execution_count": 47,
   "id": "f455f1e1",
   "metadata": {},
   "outputs": [
    {
     "data": {
      "text/plain": [
       "23600.0"
      ]
     },
     "execution_count": 47,
     "metadata": {},
     "output_type": "execute_result"
    }
   ],
   "source": [
    "sal=np.array([20000,22000,30000,25000,21000])\n",
    "sal.mean() #mean fails to give a right answer,70k is a higher than avg , we use median"
   ]
  },
  {
   "cell_type": "markdown",
   "id": "97d66e4b",
   "metadata": {},
   "source": [
    "s=np.sort(sal)#median needs sorting"
   ]
  },
  {
   "cell_type": "markdown",
   "id": "65e55b6f",
   "metadata": {},
   "source": [
    "np.median(s)#mid value"
   ]
  },
  {
   "cell_type": "code",
   "execution_count": 48,
   "id": "43216b3c",
   "metadata": {},
   "outputs": [
    {
     "data": {
      "text/plain": [
       "22000.0"
      ]
     },
     "execution_count": 48,
     "metadata": {},
     "output_type": "execute_result"
    }
   ],
   "source": [
    "np.median(sal)#call through numpy module,object call not available"
   ]
  },
  {
   "cell_type": "markdown",
   "id": "5389d60d",
   "metadata": {},
   "source": [
    "err=sal-22000\n",
    "err"
   ]
  },
  {
   "cell_type": "markdown",
   "id": "9759ae68",
   "metadata": {},
   "source": [
    "err**2 #squared to remove sign and prevent error becoming 0"
   ]
  },
  {
   "cell_type": "markdown",
   "id": "9774605a",
   "metadata": {},
   "source": [
    "np.round(np.mean(err**2),2) #variance is the mean of squared error"
   ]
  },
  {
   "cell_type": "code",
   "execution_count": 52,
   "id": "fc0cbcf0",
   "metadata": {},
   "outputs": [
    {
     "data": {
      "text/plain": [
       "13040000.0"
      ]
     },
     "execution_count": 52,
     "metadata": {},
     "output_type": "execute_result"
    }
   ],
   "source": [
    "np.var(sal)"
   ]
  },
  {
   "cell_type": "code",
   "execution_count": 53,
   "id": "feb72991",
   "metadata": {},
   "outputs": [
    {
     "data": {
      "text/plain": [
       "3611.0940170535578"
      ]
     },
     "execution_count": 53,
     "metadata": {},
     "output_type": "execute_result"
    }
   ],
   "source": [
    "np.sqrt(np.var(sal)) #standard deviation -> measure of error for the mean not median"
   ]
  },
  {
   "cell_type": "code",
   "execution_count": 55,
   "id": "026ebfc8",
   "metadata": {},
   "outputs": [
    {
     "data": {
      "text/plain": [
       "3611.0940170535578"
      ]
     },
     "execution_count": 55,
     "metadata": {},
     "output_type": "execute_result"
    }
   ],
   "source": [
    "np.std(sal) #direct function"
   ]
  },
  {
   "cell_type": "code",
   "execution_count": 56,
   "id": "524ce7b7",
   "metadata": {},
   "outputs": [
    {
     "data": {
      "text/plain": [
       "26000.0"
      ]
     },
     "execution_count": 56,
     "metadata": {},
     "output_type": "execute_result"
    }
   ],
   "source": [
    "np.quantile(sal,q=.8) #80th percentile"
   ]
  },
  {
   "cell_type": "code",
   "execution_count": 57,
   "id": "55d11091",
   "metadata": {},
   "outputs": [
    {
     "data": {
      "text/plain": [
       "22000.0"
      ]
     },
     "execution_count": 57,
     "metadata": {},
     "output_type": "execute_result"
    }
   ],
   "source": [
    "np.quantile(sal,q=.5) #50th percentile ->median"
   ]
  },
  {
   "cell_type": "code",
   "execution_count": null,
   "id": "ee12b4ed",
   "metadata": {},
   "outputs": [],
   "source": []
  }
 ],
 "metadata": {
  "kernelspec": {
   "display_name": "Python 3 (ipykernel)",
   "language": "python",
   "name": "python3"
  },
  "language_info": {
   "codemirror_mode": {
    "name": "ipython",
    "version": 3
   },
   "file_extension": ".py",
   "mimetype": "text/x-python",
   "name": "python",
   "nbconvert_exporter": "python",
   "pygments_lexer": "ipython3",
   "version": "3.10.9"
  }
 },
 "nbformat": 4,
 "nbformat_minor": 5
}
